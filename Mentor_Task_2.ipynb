{
  "nbformat": 4,
  "nbformat_minor": 0,
  "metadata": {
    "colab": {
      "provenance": [],
      "authorship_tag": "ABX9TyNvpl2Keg0PZLef9rY4tBiq",
      "include_colab_link": true
    },
    "kernelspec": {
      "name": "python3",
      "display_name": "Python 3"
    },
    "language_info": {
      "name": "python"
    }
  },
  "cells": [
    {
      "cell_type": "markdown",
      "metadata": {
        "id": "view-in-github",
        "colab_type": "text"
      },
      "source": [
        "<a href=\"https://colab.research.google.com/github/Subashganesan00/Mentors_Task/blob/main/Mentor_Task_2.ipynb\" target=\"_parent\"><img src=\"https://colab.research.google.com/assets/colab-badge.svg\" alt=\"Open In Colab\"/></a>"
      ]
    },
    {
      "cell_type": "markdown",
      "source": [
        "# Mentor Task_2"
      ],
      "metadata": {
        "id": "418344_dgnN0"
      }
    },
    {
      "cell_type": "markdown",
      "source": [
        "###X=(0,1,2,3,4,5,6,7,8,9)\n",
        "###Pwd=(5,7,3,8)\n",
        "\n",
        "###Generate iterations. Use loop function, to find the place value where the above mentioned password got generated."
      ],
      "metadata": {
        "id": "As2CD9Sbgosp"
      }
    },
    {
      "cell_type": "code",
      "source": [
        "import itertools as it"
      ],
      "metadata": {
        "id": "CSlRqlm0hahH"
      },
      "execution_count": 12,
      "outputs": []
    },
    {
      "cell_type": "code",
      "execution_count": 13,
      "metadata": {
        "id": "tyToeIUygaop"
      },
      "outputs": [],
      "source": [
        "X=(0,1,2,3,4,5,6,7,8,9)\n",
        "Pwd=(5,7,3,8)"
      ]
    },
    {
      "cell_type": "code",
      "source": [
        "iterCount=[]\n",
        "\n",
        "Permutation=it.permutations(x,4)\n",
        "\n",
        "for i in Permutation:\n",
        "  iterCount.append(i)\n",
        "  if i == Pwd:\n",
        "    print(\"Pwd:\",i)\n",
        "    break\n",
        "  else:\n",
        "    continue\n",
        "\n",
        "print(\"The above mentioned password got generated in\",len(iterCount),\"count.\")"
      ],
      "metadata": {
        "colab": {
          "base_uri": "https://localhost:8080/"
        },
        "id": "_i2nBpzDkHuA",
        "outputId": "97f5f0d3-af3e-484c-a2e6-bb30374abc8e"
      },
      "execution_count": 26,
      "outputs": [
        {
          "output_type": "stream",
          "name": "stdout",
          "text": [
            "Pwd: (5, 7, 3, 8)\n",
            "The above mentioned password got generated in 2883 count.\n"
          ]
        }
      ]
    }
  ]
}